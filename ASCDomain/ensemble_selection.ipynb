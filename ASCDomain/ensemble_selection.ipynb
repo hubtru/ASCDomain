{
 "cells": [
  {
   "cell_type": "code",
   "execution_count": 54,
   "metadata": {},
   "outputs": [],
   "source": [
    "import torch \n",
    "import pandas as pd\n",
    "import os\n",
    "from sklearn import preprocessing\n",
    "import torch.nn.functional as F\n",
    "import pickle\n",
    "import matplotlib.pyplot as plt"
   ]
  },
  {
   "cell_type": "code",
   "execution_count": 55,
   "metadata": {},
   "outputs": [],
   "source": [
    "le = preprocessing.LabelEncoder()\n",
    "test_df = pd.read_csv('split_setup/test.csv', sep='\\t')\n",
    "test_files = test_df['filename'].values.reshape(-1)\n",
    "\n",
    "path = 'path to meta.csv here'\n",
    "meta = pd.read_csv(path, sep=\"\\t\")\n",
    "test_labels_meta = torch.from_numpy(le.fit_transform(meta[['scene_label']].values.reshape(-1)))\n",
    "test_indices = list(meta[meta['filename'].isin(test_files)].index)\n",
    "test_labels = test_labels_meta[test_indices]"
   ]
  },
  {
   "cell_type": "code",
   "execution_count": 56,
   "metadata": {},
   "outputs": [],
   "source": [
    "def load_logits(logits_files, subset):\n",
    "    logits = []\n",
    "    for logits_file in logits_files:\n",
    "        file = f'{logits_file}_{subset}.pt'\n",
    "        logit = torch.load(os.path.join('logits', file)).float()\n",
    "        logits.append(logit)\n",
    "    return logits\n",
    "\n",
    "def ensemble_logits(logits):\n",
    "    ensemble = logits[0]\n",
    "\n",
    "    if len(logits) == 1:\n",
    "        ensemble = F.log_softmax(ensemble, dim=-1)\n",
    "        return ensemble\n",
    "    \n",
    "    for logit in logits[1:]:\n",
    "        ensemble += logit\n",
    "    ensemble = ensemble / len(logits)\n",
    "    # ensemble = F.log_softmax(ensemble / 2, dim=-1)\n",
    "    return ensemble\n",
    "\n",
    "def ensemble_test_stats(logits_files, subset):\n",
    "    logits = load_logits(logits_files, subset)\n",
    "    ensemble = ensemble_logits(logits)\n",
    "    test_ensemble = ensemble[test_indices]\n",
    "\n",
    "    # loss\n",
    "    samples_loss = F.cross_entropy(test_ensemble, test_labels, reduction=\"none\")\n",
    "    loss = samples_loss.mean()\n",
    "\n",
    "    # accuracy\n",
    "    _, preds = torch.max(test_ensemble, dim=1)\n",
    "    n_correct_per_sample = (preds == test_labels)\n",
    "    n_correct = n_correct_per_sample.sum()\n",
    "    acc = n_correct / len(test_ensemble)\n",
    "    return acc, loss, ensemble"
   ]
  },
  {
   "cell_type": "code",
   "execution_count": 57,
   "metadata": {},
   "outputs": [
    {
     "name": "stdout",
     "output_type": "stream",
     "text": [
      "47.64 1.538\n",
      "50.55 1.452\n",
      "53.96 1.419\n",
      "56.4 1.45\n",
      "59.45 1.425\n"
     ]
    }
   ],
   "source": [
    "splits = [5, 10, 25, 50, 100]\n",
    "files = ['mn04_as_dir_fms_lr2']\n",
    "for split in splits:\n",
    "    acc, loss, _ = ensemble_test_stats(files, split)\n",
    "    print(round(acc.item()*100,2), round(loss.item(),3))"
   ]
  },
  {
   "cell_type": "code",
   "execution_count": 64,
   "metadata": {},
   "outputs": [],
   "source": [
    "teachers = [\n",
    "    'mn04_as_dir_fms', \n",
    "    'mn04_as_dir_fms_lr', \n",
    "    'mn04_as_dir_fms_lr2', \n",
    "    'mn04_as_dir_fms_early', \n",
    "    'mn04_as_dir_fms_early2', \n",
    "\n",
    "    'mn05_as_dir_fms',\n",
    "    'mn05_as_dir_fms_lr',\n",
    "    'mn05_as_dir_fms_lr2',\n",
    "    'mn05_as_dir_fms_early', \n",
    "    'mn05_as_dir_fms_early2', \n",
    "    \n",
    "    'mn10_as_dir_fms',\n",
    "    'mn10_as_dir_fms_lr',\n",
    "    'mn10_as_dir_fms_lr2',\n",
    "    'mn10_as_dir_fms_early', \n",
    "    'mn10_as_dir_fms_early2', \n",
    "\n",
    "    'dymn04_as_dir_fms', \n",
    "    'dymn04_as_dir_fms_lr', \n",
    "    'dymn10_as_dir_fms',\n",
    "    'dymn10_as_dir_fms_lr',\n",
    "\n",
    "    'passt_dir_fms',\n",
    "    'passt_dir_fms_lr_ws',\n",
    "    'cpr_128_dir_fms',\n",
    "]\n",
    "\n"
   ]
  },
  {
   "cell_type": "code",
   "execution_count": 73,
   "metadata": {},
   "outputs": [],
   "source": [
    "def calc_best_ensemble(teachers, split):\n",
    "    best_ensemble_teachers = []\n",
    "    # best_ensemble = None\n",
    "    best_teacher = ''\n",
    "    best_acc = -1\n",
    "    best_loss = 100\n",
    "    for _ in range(len(teachers)):\n",
    "        is_new = False\n",
    "        for teacher in teachers:\n",
    "            if teacher in best_ensemble_teachers:\n",
    "                continue\n",
    "            \n",
    "            ensemble = best_ensemble_teachers + [teacher]\n",
    "            acc, loss, _ = ensemble_test_stats(ensemble, split)\n",
    "\n",
    "            if loss < best_loss:\n",
    "                best_teacher = teacher\n",
    "                best_loss = loss\n",
    "                best_acc = acc\n",
    "                is_new = True\n",
    "        if is_new:\n",
    "            best_ensemble_teachers.append(best_teacher)\n",
    "        else:\n",
    "            break\n",
    "    return best_acc.item(), best_loss.item(), best_ensemble_teachers"
   ]
  },
  {
   "cell_type": "code",
   "execution_count": 92,
   "metadata": {},
   "outputs": [],
   "source": [
    "acc, loss, best_teachers = calc_best_ensemble(teachers, 100)"
   ]
  },
  {
   "cell_type": "code",
   "execution_count": 93,
   "metadata": {},
   "outputs": [
    {
     "data": {
      "text/plain": [
       "(0.6844339370727539, 0.861076295375824)"
      ]
     },
     "execution_count": 93,
     "metadata": {},
     "output_type": "execute_result"
    }
   ],
   "source": [
    "acc, loss"
   ]
  },
  {
   "cell_type": "code",
   "execution_count": 94,
   "metadata": {},
   "outputs": [
    {
     "data": {
      "text/plain": [
       "['mn10_as_dir_fms_early2',\n",
       " 'passt_dir_fms',\n",
       " 'cpr_128_dir_fms',\n",
       " 'mn05_as_dir_fms_early2',\n",
       " 'mn05_as_dir_fms',\n",
       " 'mn04_as_dir_fms_early2']"
      ]
     },
     "execution_count": 94,
     "metadata": {},
     "output_type": "execute_result"
    }
   ],
   "source": [
    "best_teachers"
   ]
  }
 ],
 "metadata": {
  "kernelspec": {
   "display_name": "siren",
   "language": "python",
   "name": "python3"
  },
  "language_info": {
   "codemirror_mode": {
    "name": "ipython",
    "version": 3
   },
   "file_extension": ".py",
   "mimetype": "text/x-python",
   "name": "python",
   "nbconvert_exporter": "python",
   "pygments_lexer": "ipython3",
   "version": "3.9.18"
  }
 },
 "nbformat": 4,
 "nbformat_minor": 2
}
